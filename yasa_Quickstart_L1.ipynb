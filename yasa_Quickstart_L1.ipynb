{
  "nbformat": 4,
  "nbformat_minor": 0,
  "metadata": {
    "colab": {
      "provenance": [],
      "mount_file_id": "1KZNWytigIU55t51uUNwGIRvt7Kq2pDZT",
      "authorship_tag": "ABX9TyNrTIUtBaGQIPjE5etF4qPJ",
      "include_colab_link": true
    },
    "kernelspec": {
      "name": "python3",
      "display_name": "Python 3"
    },
    "language_info": {
      "name": "python"
    }
  },
  "cells": [
    {
      "cell_type": "markdown",
      "metadata": {
        "id": "view-in-github",
        "colab_type": "text"
      },
      "source": [
        "<a href=\"https://colab.research.google.com/github/JoshLindocdata/Rprogramming/blob/main/yasa_Quickstart_L1.ipynb\" target=\"_parent\"><img src=\"https://colab.research.google.com/assets/colab-badge.svg\" alt=\"Open In Colab\"/></a>"
      ]
    },
    {
      "cell_type": "markdown",
      "source": [
        "#參考網站：\n",
        "1.   yasa Quickstart: https://raphaelvallat.com/yasa/build/html/quickstart.html\n",
        "2.  yasa slow wave detection: https://github.com/raphaelvallat/yasa/blob/master/notebooks/05_sw_detection.ipynb\n",
        "\n",
        "code by Josh Lin 2023/4/23"
      ],
      "metadata": {
        "id": "YCezPCqmi5ez"
      }
    },
    {
      "cell_type": "code",
      "source": [
        "!git remote add origin git@github.com:JoshLindocdata/HRV-SW-project.git\n",
        "!git branch -M main\n",
        "!git push -u origin main"
      ],
      "metadata": {
        "colab": {
          "base_uri": "https://localhost:8080/"
        },
        "id": "eKwccse6eogR",
        "outputId": "172d8958-988e-459f-a209-d18892eccbc5"
      },
      "execution_count": 2,
      "outputs": [
        {
          "output_type": "stream",
          "name": "stdout",
          "text": [
            "fatal: not a git repository (or any of the parent directories): .git\n",
            "fatal: not a git repository (or any of the parent directories): .git\n",
            "fatal: not a git repository (or any of the parent directories): .git\n"
          ]
        }
      ]
    },
    {
      "cell_type": "code",
      "execution_count": null,
      "metadata": {
        "colab": {
          "base_uri": "https://localhost:8080/"
        },
        "id": "sXBO__9eJmn8",
        "outputId": "ba60480b-aae2-482c-e07d-fef564311035"
      },
      "outputs": [
        {
          "output_type": "stream",
          "name": "stdout",
          "text": [
            "Looking in indexes: https://pypi.org/simple, https://us-python.pkg.dev/colab-wheels/public/simple/\n",
            "Collecting mne\n",
            "  Downloading mne-1.3.1-py3-none-any.whl (7.6 MB)\n",
            "\u001b[2K     \u001b[90m━━━━━━━━━━━━━━━━━━━━━━━━━━━━━━━━━━━━━━━━\u001b[0m \u001b[32m7.6/7.6 MB\u001b[0m \u001b[31m41.5 MB/s\u001b[0m eta \u001b[36m0:00:00\u001b[0m\n",
            "\u001b[?25hRequirement already satisfied: tqdm in /usr/local/lib/python3.9/dist-packages (from mne) (4.65.0)\n",
            "Requirement already satisfied: scipy>=1.1.0 in /usr/local/lib/python3.9/dist-packages (from mne) (1.10.1)\n",
            "Requirement already satisfied: pooch>=1.5 in /usr/local/lib/python3.9/dist-packages (from mne) (1.6.0)\n",
            "Requirement already satisfied: numpy>=1.15.4 in /usr/local/lib/python3.9/dist-packages (from mne) (1.22.4)\n",
            "Requirement already satisfied: jinja2 in /usr/local/lib/python3.9/dist-packages (from mne) (3.1.2)\n",
            "Requirement already satisfied: decorator in /usr/local/lib/python3.9/dist-packages (from mne) (4.4.2)\n",
            "Requirement already satisfied: packaging in /usr/local/lib/python3.9/dist-packages (from mne) (23.1)\n",
            "Requirement already satisfied: matplotlib in /usr/local/lib/python3.9/dist-packages (from mne) (3.7.1)\n",
            "Requirement already satisfied: appdirs>=1.3.0 in /usr/local/lib/python3.9/dist-packages (from pooch>=1.5->mne) (1.4.4)\n",
            "Requirement already satisfied: requests>=2.19.0 in /usr/local/lib/python3.9/dist-packages (from pooch>=1.5->mne) (2.27.1)\n",
            "Requirement already satisfied: MarkupSafe>=2.0 in /usr/local/lib/python3.9/dist-packages (from jinja2->mne) (2.1.2)\n",
            "Requirement already satisfied: python-dateutil>=2.7 in /usr/local/lib/python3.9/dist-packages (from matplotlib->mne) (2.8.2)\n",
            "Requirement already satisfied: importlib-resources>=3.2.0 in /usr/local/lib/python3.9/dist-packages (from matplotlib->mne) (5.12.0)\n",
            "Requirement already satisfied: kiwisolver>=1.0.1 in /usr/local/lib/python3.9/dist-packages (from matplotlib->mne) (1.4.4)\n",
            "Requirement already satisfied: pillow>=6.2.0 in /usr/local/lib/python3.9/dist-packages (from matplotlib->mne) (8.4.0)\n",
            "Requirement already satisfied: contourpy>=1.0.1 in /usr/local/lib/python3.9/dist-packages (from matplotlib->mne) (1.0.7)\n",
            "Requirement already satisfied: pyparsing>=2.3.1 in /usr/local/lib/python3.9/dist-packages (from matplotlib->mne) (3.0.9)\n",
            "Requirement already satisfied: fonttools>=4.22.0 in /usr/local/lib/python3.9/dist-packages (from matplotlib->mne) (4.39.3)\n",
            "Requirement already satisfied: cycler>=0.10 in /usr/local/lib/python3.9/dist-packages (from matplotlib->mne) (0.11.0)\n",
            "Requirement already satisfied: zipp>=3.1.0 in /usr/local/lib/python3.9/dist-packages (from importlib-resources>=3.2.0->matplotlib->mne) (3.15.0)\n",
            "Requirement already satisfied: six>=1.5 in /usr/local/lib/python3.9/dist-packages (from python-dateutil>=2.7->matplotlib->mne) (1.16.0)\n",
            "Requirement already satisfied: certifi>=2017.4.17 in /usr/local/lib/python3.9/dist-packages (from requests>=2.19.0->pooch>=1.5->mne) (2022.12.7)\n",
            "Requirement already satisfied: charset-normalizer~=2.0.0 in /usr/local/lib/python3.9/dist-packages (from requests>=2.19.0->pooch>=1.5->mne) (2.0.12)\n",
            "Requirement already satisfied: idna<4,>=2.5 in /usr/local/lib/python3.9/dist-packages (from requests>=2.19.0->pooch>=1.5->mne) (3.4)\n",
            "Requirement already satisfied: urllib3<1.27,>=1.21.1 in /usr/local/lib/python3.9/dist-packages (from requests>=2.19.0->pooch>=1.5->mne) (1.26.15)\n",
            "Installing collected packages: mne\n",
            "Successfully installed mne-1.3.1\n",
            "Looking in indexes: https://pypi.org/simple, https://us-python.pkg.dev/colab-wheels/public/simple/\n",
            "Collecting yasa\n",
            "  Downloading yasa-0.6.3.tar.gz (33.8 MB)\n",
            "\u001b[2K     \u001b[90m━━━━━━━━━━━━━━━━━━━━━━━━━━━━━━━━━━━━━━━━\u001b[0m \u001b[32m33.8/33.8 MB\u001b[0m \u001b[31m13.1 MB/s\u001b[0m eta \u001b[36m0:00:00\u001b[0m\n",
            "\u001b[?25h  Installing build dependencies ... \u001b[?25l\u001b[?25hdone\n",
            "  Getting requirements to build wheel ... \u001b[?25l\u001b[?25hdone\n",
            "  Preparing metadata (pyproject.toml) ... \u001b[?25l\u001b[?25hdone\n",
            "Requirement already satisfied: numba in /usr/local/lib/python3.9/dist-packages (from yasa) (0.56.4)\n",
            "Collecting sleepecg>=0.5.0\n",
            "  Downloading sleepecg-0.5.4-cp39-cp39-manylinux_2_5_x86_64.manylinux1_x86_64.manylinux_2_17_x86_64.manylinux2014_x86_64.whl (2.3 MB)\n",
            "\u001b[2K     \u001b[90m━━━━━━━━━━━━━━━━━━━━━━━━━━━━━━━━━━━━━━━━\u001b[0m \u001b[32m2.3/2.3 MB\u001b[0m \u001b[31m21.7 MB/s\u001b[0m eta \u001b[36m0:00:00\u001b[0m\n",
            "\u001b[?25hRequirement already satisfied: matplotlib in /usr/local/lib/python3.9/dist-packages (from yasa) (3.7.1)\n",
            "Requirement already satisfied: mne>=0.23 in /usr/local/lib/python3.9/dist-packages (from yasa) (1.3.1)\n",
            "Collecting tensorpac>=0.6.5\n",
            "  Downloading tensorpac-0.6.5-py3-none-any.whl (423 kB)\n",
            "\u001b[2K     \u001b[90m━━━━━━━━━━━━━━━━━━━━━━━━━━━━━━━━━━━━━━\u001b[0m \u001b[32m423.6/423.6 kB\u001b[0m \u001b[31m35.0 MB/s\u001b[0m eta \u001b[36m0:00:00\u001b[0m\n",
            "\u001b[?25hRequirement already satisfied: ipywidgets in /usr/local/lib/python3.9/dist-packages (from yasa) (7.7.1)\n",
            "Requirement already satisfied: pandas in /usr/local/lib/python3.9/dist-packages (from yasa) (1.5.3)\n",
            "Requirement already satisfied: scipy in /usr/local/lib/python3.9/dist-packages (from yasa) (1.10.1)\n",
            "Collecting outdated\n",
            "  Downloading outdated-0.2.2-py2.py3-none-any.whl (7.5 kB)\n",
            "Requirement already satisfied: scikit-learn in /usr/local/lib/python3.9/dist-packages (from yasa) (1.2.2)\n",
            "Requirement already satisfied: numpy>=1.16.5 in /usr/local/lib/python3.9/dist-packages (from yasa) (1.22.4)\n",
            "Collecting pyriemann>=0.2.7\n",
            "  Downloading pyriemann-0.4.tar.gz (90 kB)\n",
            "\u001b[2K     \u001b[90m━━━━━━━━━━━━━━━━━━━━━━━━━━━━━━━━━━━━━━━━\u001b[0m \u001b[32m90.6/90.6 kB\u001b[0m \u001b[31m10.5 MB/s\u001b[0m eta \u001b[36m0:00:00\u001b[0m\n",
            "\u001b[?25h  Preparing metadata (setup.py) ... \u001b[?25l\u001b[?25hdone\n",
            "Requirement already satisfied: seaborn in /usr/local/lib/python3.9/dist-packages (from yasa) (0.12.2)\n",
            "Requirement already satisfied: joblib in /usr/local/lib/python3.9/dist-packages (from yasa) (1.2.0)\n",
            "Collecting antropy\n",
            "  Downloading antropy-0.1.5.tar.gz (17 kB)\n",
            "  Installing build dependencies ... \u001b[?25l\u001b[?25hdone\n",
            "  Getting requirements to build wheel ... \u001b[?25l\u001b[?25hdone\n",
            "  Preparing metadata (pyproject.toml) ... \u001b[?25l\u001b[?25hdone\n",
            "Collecting lspopt\n",
            "  Downloading lspopt-1.3.0-py2.py3-none-any.whl (35 kB)\n",
            "Requirement already satisfied: lightgbm in /usr/local/lib/python3.9/dist-packages (from yasa) (3.3.5)\n",
            "Requirement already satisfied: decorator in /usr/local/lib/python3.9/dist-packages (from mne>=0.23->yasa) (4.4.2)\n",
            "Requirement already satisfied: packaging in /usr/local/lib/python3.9/dist-packages (from mne>=0.23->yasa) (23.1)\n",
            "Requirement already satisfied: tqdm in /usr/local/lib/python3.9/dist-packages (from mne>=0.23->yasa) (4.65.0)\n",
            "Requirement already satisfied: jinja2 in /usr/local/lib/python3.9/dist-packages (from mne>=0.23->yasa) (3.1.2)\n",
            "Requirement already satisfied: pooch>=1.5 in /usr/local/lib/python3.9/dist-packages (from mne>=0.23->yasa) (1.6.0)\n",
            "Requirement already satisfied: PyYAML>=5.4.0 in /usr/local/lib/python3.9/dist-packages (from sleepecg>=0.5.0->yasa) (6.0)\n",
            "Requirement already satisfied: requests>=2.25.0 in /usr/local/lib/python3.9/dist-packages (from sleepecg>=0.5.0->yasa) (2.27.1)\n",
            "Collecting stochastic\n",
            "  Downloading stochastic-0.7.0-py3-none-any.whl (48 kB)\n",
            "\u001b[2K     \u001b[90m━━━━━━━━━━━━━━━━━━━━━━━━━━━━━━━━━━━━━━━━\u001b[0m \u001b[32m48.1/48.1 kB\u001b[0m \u001b[31m5.5 MB/s\u001b[0m eta \u001b[36m0:00:00\u001b[0m\n",
            "\u001b[?25hRequirement already satisfied: jupyterlab-widgets>=1.0.0 in /usr/local/lib/python3.9/dist-packages (from ipywidgets->yasa) (3.0.7)\n",
            "Requirement already satisfied: ipython-genutils~=0.2.0 in /usr/local/lib/python3.9/dist-packages (from ipywidgets->yasa) (0.2.0)\n",
            "Requirement already satisfied: widgetsnbextension~=3.6.0 in /usr/local/lib/python3.9/dist-packages (from ipywidgets->yasa) (3.6.4)\n",
            "Requirement already satisfied: ipykernel>=4.5.1 in /usr/local/lib/python3.9/dist-packages (from ipywidgets->yasa) (5.5.6)\n",
            "Requirement already satisfied: traitlets>=4.3.1 in /usr/local/lib/python3.9/dist-packages (from ipywidgets->yasa) (5.7.1)\n",
            "Requirement already satisfied: ipython>=4.0.0 in /usr/local/lib/python3.9/dist-packages (from ipywidgets->yasa) (7.34.0)\n",
            "Requirement already satisfied: wheel in /usr/local/lib/python3.9/dist-packages (from lightgbm->yasa) (0.40.0)\n",
            "Requirement already satisfied: threadpoolctl>=2.0.0 in /usr/local/lib/python3.9/dist-packages (from scikit-learn->yasa) (3.1.0)\n",
            "Requirement already satisfied: importlib-resources>=3.2.0 in /usr/local/lib/python3.9/dist-packages (from matplotlib->yasa) (5.12.0)\n",
            "Requirement already satisfied: pyparsing>=2.3.1 in /usr/local/lib/python3.9/dist-packages (from matplotlib->yasa) (3.0.9)\n",
            "Requirement already satisfied: pillow>=6.2.0 in /usr/local/lib/python3.9/dist-packages (from matplotlib->yasa) (8.4.0)\n",
            "Requirement already satisfied: cycler>=0.10 in /usr/local/lib/python3.9/dist-packages (from matplotlib->yasa) (0.11.0)\n",
            "Requirement already satisfied: contourpy>=1.0.1 in /usr/local/lib/python3.9/dist-packages (from matplotlib->yasa) (1.0.7)\n",
            "Requirement already satisfied: kiwisolver>=1.0.1 in /usr/local/lib/python3.9/dist-packages (from matplotlib->yasa) (1.4.4)\n",
            "Requirement already satisfied: python-dateutil>=2.7 in /usr/local/lib/python3.9/dist-packages (from matplotlib->yasa) (2.8.2)\n",
            "Requirement already satisfied: fonttools>=4.22.0 in /usr/local/lib/python3.9/dist-packages (from matplotlib->yasa) (4.39.3)\n",
            "Requirement already satisfied: setuptools in /usr/local/lib/python3.9/dist-packages (from numba->yasa) (67.7.2)\n",
            "Requirement already satisfied: llvmlite<0.40,>=0.39.0dev0 in /usr/local/lib/python3.9/dist-packages (from numba->yasa) (0.39.1)\n",
            "Collecting littleutils\n",
            "  Downloading littleutils-0.2.2.tar.gz (6.6 kB)\n",
            "  Preparing metadata (setup.py) ... \u001b[?25l\u001b[?25hdone\n",
            "Requirement already satisfied: pytz>=2020.1 in /usr/local/lib/python3.9/dist-packages (from pandas->yasa) (2022.7.1)\n",
            "Requirement already satisfied: zipp>=3.1.0 in /usr/local/lib/python3.9/dist-packages (from importlib-resources>=3.2.0->matplotlib->yasa) (3.15.0)\n",
            "Requirement already satisfied: jupyter-client in /usr/local/lib/python3.9/dist-packages (from ipykernel>=4.5.1->ipywidgets->yasa) (6.1.12)\n",
            "Requirement already satisfied: tornado>=4.2 in /usr/local/lib/python3.9/dist-packages (from ipykernel>=4.5.1->ipywidgets->yasa) (6.2)\n",
            "Requirement already satisfied: prompt-toolkit!=3.0.0,!=3.0.1,<3.1.0,>=2.0.0 in /usr/local/lib/python3.9/dist-packages (from ipython>=4.0.0->ipywidgets->yasa) (3.0.38)\n",
            "Requirement already satisfied: matplotlib-inline in /usr/local/lib/python3.9/dist-packages (from ipython>=4.0.0->ipywidgets->yasa) (0.1.6)\n",
            "Requirement already satisfied: backcall in /usr/local/lib/python3.9/dist-packages (from ipython>=4.0.0->ipywidgets->yasa) (0.2.0)\n",
            "Requirement already satisfied: pickleshare in /usr/local/lib/python3.9/dist-packages (from ipython>=4.0.0->ipywidgets->yasa) (0.7.5)\n",
            "Collecting jedi>=0.16\n",
            "  Downloading jedi-0.18.2-py2.py3-none-any.whl (1.6 MB)\n",
            "\u001b[2K     \u001b[90m━━━━━━━━━━━━━━━━━━━━━━━━━━━━━━━━━━━━━━━━\u001b[0m \u001b[32m1.6/1.6 MB\u001b[0m \u001b[31m72.6 MB/s\u001b[0m eta \u001b[36m0:00:00\u001b[0m\n",
            "\u001b[?25hRequirement already satisfied: pexpect>4.3 in /usr/local/lib/python3.9/dist-packages (from ipython>=4.0.0->ipywidgets->yasa) (4.8.0)\n",
            "Requirement already satisfied: pygments in /usr/local/lib/python3.9/dist-packages (from ipython>=4.0.0->ipywidgets->yasa) (2.14.0)\n",
            "Requirement already satisfied: appdirs>=1.3.0 in /usr/local/lib/python3.9/dist-packages (from pooch>=1.5->mne>=0.23->yasa) (1.4.4)\n",
            "Requirement already satisfied: six>=1.5 in /usr/local/lib/python3.9/dist-packages (from python-dateutil>=2.7->matplotlib->yasa) (1.16.0)\n",
            "Requirement already satisfied: certifi>=2017.4.17 in /usr/local/lib/python3.9/dist-packages (from requests>=2.25.0->sleepecg>=0.5.0->yasa) (2022.12.7)\n",
            "Requirement already satisfied: charset-normalizer~=2.0.0 in /usr/local/lib/python3.9/dist-packages (from requests>=2.25.0->sleepecg>=0.5.0->yasa) (2.0.12)\n",
            "Requirement already satisfied: idna<4,>=2.5 in /usr/local/lib/python3.9/dist-packages (from requests>=2.25.0->sleepecg>=0.5.0->yasa) (3.4)\n",
            "Requirement already satisfied: urllib3<1.27,>=1.21.1 in /usr/local/lib/python3.9/dist-packages (from requests>=2.25.0->sleepecg>=0.5.0->yasa) (1.26.15)\n",
            "Requirement already satisfied: notebook>=4.4.1 in /usr/local/lib/python3.9/dist-packages (from widgetsnbextension~=3.6.0->ipywidgets->yasa) (6.4.8)\n",
            "Requirement already satisfied: MarkupSafe>=2.0 in /usr/local/lib/python3.9/dist-packages (from jinja2->mne>=0.23->yasa) (2.1.2)\n",
            "Requirement already satisfied: parso<0.9.0,>=0.8.0 in /usr/local/lib/python3.9/dist-packages (from jedi>=0.16->ipython>=4.0.0->ipywidgets->yasa) (0.8.3)\n",
            "Requirement already satisfied: nbconvert in /usr/local/lib/python3.9/dist-packages (from notebook>=4.4.1->widgetsnbextension~=3.6.0->ipywidgets->yasa) (6.5.4)\n",
            "Requirement already satisfied: argon2-cffi in /usr/local/lib/python3.9/dist-packages (from notebook>=4.4.1->widgetsnbextension~=3.6.0->ipywidgets->yasa) (21.3.0)\n",
            "Requirement already satisfied: terminado>=0.8.3 in /usr/local/lib/python3.9/dist-packages (from notebook>=4.4.1->widgetsnbextension~=3.6.0->ipywidgets->yasa) (0.17.1)\n",
            "Requirement already satisfied: Send2Trash>=1.8.0 in /usr/local/lib/python3.9/dist-packages (from notebook>=4.4.1->widgetsnbextension~=3.6.0->ipywidgets->yasa) (1.8.0)\n",
            "Requirement already satisfied: nest-asyncio>=1.5 in /usr/local/lib/python3.9/dist-packages (from notebook>=4.4.1->widgetsnbextension~=3.6.0->ipywidgets->yasa) (1.5.6)\n",
            "Requirement already satisfied: prometheus-client in /usr/local/lib/python3.9/dist-packages (from notebook>=4.4.1->widgetsnbextension~=3.6.0->ipywidgets->yasa) (0.16.0)\n",
            "Requirement already satisfied: nbformat in /usr/local/lib/python3.9/dist-packages (from notebook>=4.4.1->widgetsnbextension~=3.6.0->ipywidgets->yasa) (5.8.0)\n",
            "Requirement already satisfied: jupyter-core>=4.6.1 in /usr/local/lib/python3.9/dist-packages (from notebook>=4.4.1->widgetsnbextension~=3.6.0->ipywidgets->yasa) (5.3.0)\n",
            "Requirement already satisfied: pyzmq>=17 in /usr/local/lib/python3.9/dist-packages (from notebook>=4.4.1->widgetsnbextension~=3.6.0->ipywidgets->yasa) (23.2.1)\n",
            "Requirement already satisfied: ptyprocess>=0.5 in /usr/local/lib/python3.9/dist-packages (from pexpect>4.3->ipython>=4.0.0->ipywidgets->yasa) (0.7.0)\n",
            "Requirement already satisfied: wcwidth in /usr/local/lib/python3.9/dist-packages (from prompt-toolkit!=3.0.0,!=3.0.1,<3.1.0,>=2.0.0->ipython>=4.0.0->ipywidgets->yasa) (0.2.6)\n",
            "Requirement already satisfied: platformdirs>=2.5 in /usr/local/lib/python3.9/dist-packages (from jupyter-core>=4.6.1->notebook>=4.4.1->widgetsnbextension~=3.6.0->ipywidgets->yasa) (3.2.0)\n",
            "Requirement already satisfied: argon2-cffi-bindings in /usr/local/lib/python3.9/dist-packages (from argon2-cffi->notebook>=4.4.1->widgetsnbextension~=3.6.0->ipywidgets->yasa) (21.2.0)\n",
            "Requirement already satisfied: defusedxml in /usr/local/lib/python3.9/dist-packages (from nbconvert->notebook>=4.4.1->widgetsnbextension~=3.6.0->ipywidgets->yasa) (0.7.1)\n",
            "Requirement already satisfied: pandocfilters>=1.4.1 in /usr/local/lib/python3.9/dist-packages (from nbconvert->notebook>=4.4.1->widgetsnbextension~=3.6.0->ipywidgets->yasa) (1.5.0)\n",
            "Requirement already satisfied: nbclient>=0.5.0 in /usr/local/lib/python3.9/dist-packages (from nbconvert->notebook>=4.4.1->widgetsnbextension~=3.6.0->ipywidgets->yasa) (0.7.3)\n",
            "Requirement already satisfied: entrypoints>=0.2.2 in /usr/local/lib/python3.9/dist-packages (from nbconvert->notebook>=4.4.1->widgetsnbextension~=3.6.0->ipywidgets->yasa) (0.4)\n",
            "Requirement already satisfied: jupyterlab-pygments in /usr/local/lib/python3.9/dist-packages (from nbconvert->notebook>=4.4.1->widgetsnbextension~=3.6.0->ipywidgets->yasa) (0.2.2)\n",
            "Requirement already satisfied: mistune<2,>=0.8.1 in /usr/local/lib/python3.9/dist-packages (from nbconvert->notebook>=4.4.1->widgetsnbextension~=3.6.0->ipywidgets->yasa) (0.8.4)\n",
            "Requirement already satisfied: lxml in /usr/local/lib/python3.9/dist-packages (from nbconvert->notebook>=4.4.1->widgetsnbextension~=3.6.0->ipywidgets->yasa) (4.9.2)\n",
            "Requirement already satisfied: tinycss2 in /usr/local/lib/python3.9/dist-packages (from nbconvert->notebook>=4.4.1->widgetsnbextension~=3.6.0->ipywidgets->yasa) (1.2.1)\n",
            "Requirement already satisfied: bleach in /usr/local/lib/python3.9/dist-packages (from nbconvert->notebook>=4.4.1->widgetsnbextension~=3.6.0->ipywidgets->yasa) (6.0.0)\n",
            "Requirement already satisfied: beautifulsoup4 in /usr/local/lib/python3.9/dist-packages (from nbconvert->notebook>=4.4.1->widgetsnbextension~=3.6.0->ipywidgets->yasa) (4.11.2)\n",
            "Requirement already satisfied: jsonschema>=2.6 in /usr/local/lib/python3.9/dist-packages (from nbformat->notebook>=4.4.1->widgetsnbextension~=3.6.0->ipywidgets->yasa) (4.3.3)\n",
            "Requirement already satisfied: fastjsonschema in /usr/local/lib/python3.9/dist-packages (from nbformat->notebook>=4.4.1->widgetsnbextension~=3.6.0->ipywidgets->yasa) (2.16.3)\n",
            "Requirement already satisfied: pyrsistent!=0.17.0,!=0.17.1,!=0.17.2,>=0.14.0 in /usr/local/lib/python3.9/dist-packages (from jsonschema>=2.6->nbformat->notebook>=4.4.1->widgetsnbextension~=3.6.0->ipywidgets->yasa) (0.19.3)\n",
            "Requirement already satisfied: attrs>=17.4.0 in /usr/local/lib/python3.9/dist-packages (from jsonschema>=2.6->nbformat->notebook>=4.4.1->widgetsnbextension~=3.6.0->ipywidgets->yasa) (23.1.0)\n",
            "Requirement already satisfied: cffi>=1.0.1 in /usr/local/lib/python3.9/dist-packages (from argon2-cffi-bindings->argon2-cffi->notebook>=4.4.1->widgetsnbextension~=3.6.0->ipywidgets->yasa) (1.15.1)\n",
            "Requirement already satisfied: soupsieve>1.2 in /usr/local/lib/python3.9/dist-packages (from beautifulsoup4->nbconvert->notebook>=4.4.1->widgetsnbextension~=3.6.0->ipywidgets->yasa) (2.4.1)\n",
            "Requirement already satisfied: webencodings in /usr/local/lib/python3.9/dist-packages (from bleach->nbconvert->notebook>=4.4.1->widgetsnbextension~=3.6.0->ipywidgets->yasa) (0.5.1)\n",
            "Requirement already satisfied: pycparser in /usr/local/lib/python3.9/dist-packages (from cffi>=1.0.1->argon2-cffi-bindings->argon2-cffi->notebook>=4.4.1->widgetsnbextension~=3.6.0->ipywidgets->yasa) (2.21)\n",
            "Building wheels for collected packages: yasa, pyriemann, antropy, littleutils\n",
            "  Building wheel for yasa (pyproject.toml) ... \u001b[?25l\u001b[?25hdone\n",
            "  Created wheel for yasa: filename=yasa-0.6.3-py3-none-any.whl size=33800434 sha256=fee1d8b7bb08aaa2d4cfb99e2d6b487259cf888f9593dea4215efe2d548bbe02\n",
            "  Stored in directory: /root/.cache/pip/wheels/1a/4a/b3/f3f10951816f130d4c55c22b353d7c6023c8c2f5e44b9c0728\n",
            "  Building wheel for pyriemann (setup.py) ... \u001b[?25l\u001b[?25hdone\n",
            "  Created wheel for pyriemann: filename=pyriemann-0.4-py2.py3-none-any.whl size=105117 sha256=7b5aa483b3b81921cd1893ea9239aa883b5a82030cb8027c0505865639dc4303\n",
            "  Stored in directory: /root/.cache/pip/wheels/71/43/fd/c7988e1b08c73146d21d92fec794455be9ea16e34a79da656a\n",
            "  Building wheel for antropy (pyproject.toml) ... \u001b[?25l\u001b[?25hdone\n",
            "  Created wheel for antropy: filename=antropy-0.1.5-py3-none-any.whl size=16915 sha256=e1bd8e19d62a982d8e7a8098e044e5796dd9c71d1215ee651e1069b0c1ddf15c\n",
            "  Stored in directory: /root/.cache/pip/wheels/12/27/70/53866b1558c89df79d67411b20b094bcf304dec8f5c7a13ba9\n",
            "  Building wheel for littleutils (setup.py) ... \u001b[?25l\u001b[?25hdone\n",
            "  Created wheel for littleutils: filename=littleutils-0.2.2-py3-none-any.whl size=7048 sha256=f87b465791bf49d5bcb510494dce421fd582147e8fe0010b03d29d99770a5404\n",
            "  Stored in directory: /root/.cache/pip/wheels/04/bb/0d/2d02ec45f29c48d6192476bfb59c5a0e64b605e7212374dd15\n",
            "Successfully built yasa pyriemann antropy littleutils\n",
            "Installing collected packages: littleutils, jedi, tensorpac, stochastic, sleepecg, outdated, lspopt, pyriemann, antropy, yasa\n",
            "Successfully installed antropy-0.1.5 jedi-0.18.2 littleutils-0.2.2 lspopt-1.3.0 outdated-0.2.2 pyriemann-0.4 sleepecg-0.5.4 stochastic-0.7.0 tensorpac-0.6.5 yasa-0.6.3\n"
          ]
        }
      ],
      "source": [
        "!pip install mne\n",
        "!pip install --upgrade yasa\n",
        "import numpy as np"
      ]
    },
    {
      "cell_type": "markdown",
      "source": [
        "用yasa的方法導入資料，使用mne套件，輸入的是一個raw的資料格式，是一種numpy"
      ],
      "metadata": {
        "id": "kJXgBk1hg8UB"
      }
    },
    {
      "cell_type": "code",
      "source": [
        "import mne"
      ],
      "metadata": {
        "id": "Heq77JtIKIHY"
      },
      "execution_count": null,
      "outputs": []
    },
    {
      "cell_type": "code",
      "source": [
        "raw=mne.io.read_raw_edf(\"/content/drive/Shareddrives/AIM_research_data/data/S0190520    方念陸/ec707004-c345-4725-bb7d-803460fcc4b9/Traces.edf\", preload=True)"
      ],
      "metadata": {
        "colab": {
          "base_uri": "https://localhost:8080/"
        },
        "id": "1YtIuHYaKNw0",
        "outputId": "39b8db14-f9c7-49b0-985c-111548cb4726"
      },
      "execution_count": null,
      "outputs": [
        {
          "output_type": "stream",
          "name": "stdout",
          "text": [
            "Extracting EDF parameters from /content/drive/Shareddrives/AIM_research_data/data/S0190520    方念陸/ec707004-c345-4725-bb7d-803460fcc4b9/Traces.edf...\n",
            "EDF file detected\n",
            "Setting channel info structure...\n",
            "Creating raw.info structure...\n",
            "Reading 0 ... 4356999  =      0.000 ... 21784.995 secs...\n"
          ]
        }
      ]
    },
    {
      "cell_type": "code",
      "source": [
        "raw"
      ],
      "metadata": {
        "colab": {
          "base_uri": "https://localhost:8080/",
          "height": 297
        },
        "id": "WjdH0uUPMqQJ",
        "outputId": "5d500b6b-d8b8-4f3f-e118-81f857d302d9"
      },
      "execution_count": null,
      "outputs": [
        {
          "output_type": "execute_result",
          "data": {
            "text/plain": [
              "<RawEDF | Traces.edf, 36 x 4357000 (21785.0 s), ~1.17 GB, data loaded>"
            ],
            "text/html": [
              "<table class=\"table table-hover table-striped table-sm table-responsive small\">\n",
              "    <tr>\n",
              "        <th>Measurement date</th>\n",
              "        \n",
              "        <td>March 07, 2019  21:58:58 GMT</td>\n",
              "        \n",
              "    </tr>\n",
              "    <tr>\n",
              "        <th>Experimenter</th>\n",
              "        \n",
              "        <td>Unknown</td>\n",
              "        \n",
              "    </tr>\n",
              "        <th>Participant</th>\n",
              "        \n",
              "        <td>Unknown</td>\n",
              "        \n",
              "    </tr>\n",
              "    <tr>\n",
              "        <th>Digitized points</th>\n",
              "        \n",
              "        <td>Not available</td>\n",
              "        \n",
              "    </tr>\n",
              "    <tr>\n",
              "        <th>Good channels</th>\n",
              "        <td>36 EEG</td>\n",
              "    </tr>\n",
              "    <tr>\n",
              "        <th>Bad channels</th>\n",
              "        <td>None</td>\n",
              "    </tr>\n",
              "    <tr>\n",
              "        <th>EOG channels</th>\n",
              "        <td>Not available</td>\n",
              "    </tr>\n",
              "    <tr>\n",
              "        <th>ECG channels</th>\n",
              "        <td>Not available</td>\n",
              "    \n",
              "    <tr>\n",
              "        <th>Sampling frequency</th>\n",
              "        <td>200.00 Hz</td>\n",
              "    </tr>\n",
              "    \n",
              "    \n",
              "    <tr>\n",
              "        <th>Highpass</th>\n",
              "        <td>0.00 Hz</td>\n",
              "    </tr>\n",
              "    \n",
              "    \n",
              "    <tr>\n",
              "        <th>Lowpass</th>\n",
              "        <td>100.00 Hz</td>\n",
              "    </tr>\n",
              "    \n",
              "    \n",
              "    \n",
              "    <tr>\n",
              "        <th>Filenames</th>\n",
              "        <td>Traces.edf</td>\n",
              "    </tr>\n",
              "    \n",
              "    <tr>\n",
              "        <th>Duration</th>\n",
              "        <td>06:03:05 (HH:MM:SS)</td>\n",
              "    </tr>\n",
              "</table>"
            ]
          },
          "metadata": {},
          "execution_count": 4
        }
      ]
    },
    {
      "cell_type": "code",
      "source": [
        "chan=raw.ch_names\n",
        "chan"
      ],
      "metadata": {
        "colab": {
          "base_uri": "https://localhost:8080/"
        },
        "id": "6NWiDVY2NKBL",
        "outputId": "2d295e27-cca0-4e1e-9c61-e981cf75787d"
      },
      "execution_count": null,
      "outputs": [
        {
          "output_type": "execute_result",
          "data": {
            "text/plain": [
              "['Light',\n",
              " 'Position',\n",
              " 'Activity',\n",
              " 'Elevation',\n",
              " 'Flow_DR',\n",
              " 'Nasal Pressure',\n",
              " 'Derived Snore',\n",
              " 'Mask Pressure',\n",
              " 'Audio Level',\n",
              " 'Gravity X',\n",
              " 'Gravity Y',\n",
              " 'Gravity Z',\n",
              " 'Thorax',\n",
              " 'Abdomen',\n",
              " 'Thermistor',\n",
              " 'SpO2',\n",
              " 'Pulse',\n",
              " 'SpO2 Quality',\n",
              " 'RD-Quality',\n",
              " 'Pleth',\n",
              " 'F3',\n",
              " 'C3',\n",
              " 'O1',\n",
              " 'F4',\n",
              " 'C4',\n",
              " 'O2',\n",
              " 'E1',\n",
              " 'E2',\n",
              " 'M1',\n",
              " 'M2',\n",
              " 'ChinC',\n",
              " 'ChinL',\n",
              " 'ChinR',\n",
              " 'EKG',\n",
              " 'LegL',\n",
              " 'LegR']"
            ]
          },
          "metadata": {},
          "execution_count": 5
        }
      ]
    },
    {
      "cell_type": "markdown",
      "source": [
        "檢查frequency，和我們的資料不一致，我們的應該是200Hz，可以用resample修正也可以不要，網站上是說會比較快"
      ],
      "metadata": {
        "id": "bt4Vzt5phNFr"
      }
    },
    {
      "cell_type": "code",
      "source": [
        "print(raw.info['sfreq'])"
      ],
      "metadata": {
        "colab": {
          "base_uri": "https://localhost:8080/"
        },
        "id": "vKYEqHP4OBBb",
        "outputId": "468c8023-1b8b-4234-8223-2523fb27b66a"
      },
      "execution_count": null,
      "outputs": [
        {
          "output_type": "stream",
          "name": "stdout",
          "text": [
            "200.0\n"
          ]
        }
      ]
    },
    {
      "cell_type": "code",
      "source": [
        "#raw.resample(250)"
      ],
      "metadata": {
        "id": "FmkQ2sUcNX3m"
      },
      "execution_count": null,
      "outputs": []
    },
    {
      "cell_type": "markdown",
      "source": [
        "ChatGPT說額葉導極（F3,F4）和中央導極（C3,C4）最容易檢測到slow wave"
      ],
      "metadata": {
        "id": "YokCVKL8hhn4"
      }
    },
    {
      "cell_type": "code",
      "source": [
        "raw_pick=raw.pick_channels(['F4'])"
      ],
      "metadata": {
        "id": "oJklR9tYPTyS"
      },
      "execution_count": null,
      "outputs": []
    },
    {
      "cell_type": "code",
      "source": [
        "raw_pick"
      ],
      "metadata": {
        "colab": {
          "base_uri": "https://localhost:8080/",
          "height": 297
        },
        "id": "bGDwsmb-PT0C",
        "outputId": "79501a9c-a010-46aa-a857-4f091d9e969b"
      },
      "execution_count": null,
      "outputs": [
        {
          "output_type": "execute_result",
          "data": {
            "text/plain": [
              "<RawEDF | Traces.edf, 1 x 4357000 (21785.0 s), ~33.2 MB, data loaded>"
            ],
            "text/html": [
              "<table class=\"table table-hover table-striped table-sm table-responsive small\">\n",
              "    <tr>\n",
              "        <th>Measurement date</th>\n",
              "        \n",
              "        <td>March 07, 2019  21:58:58 GMT</td>\n",
              "        \n",
              "    </tr>\n",
              "    <tr>\n",
              "        <th>Experimenter</th>\n",
              "        \n",
              "        <td>Unknown</td>\n",
              "        \n",
              "    </tr>\n",
              "        <th>Participant</th>\n",
              "        \n",
              "        <td>Unknown</td>\n",
              "        \n",
              "    </tr>\n",
              "    <tr>\n",
              "        <th>Digitized points</th>\n",
              "        \n",
              "        <td>Not available</td>\n",
              "        \n",
              "    </tr>\n",
              "    <tr>\n",
              "        <th>Good channels</th>\n",
              "        <td>1 EEG</td>\n",
              "    </tr>\n",
              "    <tr>\n",
              "        <th>Bad channels</th>\n",
              "        <td>None</td>\n",
              "    </tr>\n",
              "    <tr>\n",
              "        <th>EOG channels</th>\n",
              "        <td>Not available</td>\n",
              "    </tr>\n",
              "    <tr>\n",
              "        <th>ECG channels</th>\n",
              "        <td>Not available</td>\n",
              "    \n",
              "    <tr>\n",
              "        <th>Sampling frequency</th>\n",
              "        <td>200.00 Hz</td>\n",
              "    </tr>\n",
              "    \n",
              "    \n",
              "    <tr>\n",
              "        <th>Highpass</th>\n",
              "        <td>0.00 Hz</td>\n",
              "    </tr>\n",
              "    \n",
              "    \n",
              "    <tr>\n",
              "        <th>Lowpass</th>\n",
              "        <td>100.00 Hz</td>\n",
              "    </tr>\n",
              "    \n",
              "    \n",
              "    \n",
              "    <tr>\n",
              "        <th>Filenames</th>\n",
              "        <td>Traces.edf</td>\n",
              "    </tr>\n",
              "    \n",
              "    <tr>\n",
              "        <th>Duration</th>\n",
              "        <td>06:03:05 (HH:MM:SS)</td>\n",
              "    </tr>\n",
              "</table>"
            ]
          },
          "metadata": {},
          "execution_count": 10
        }
      ]
    },
    {
      "cell_type": "markdown",
      "source": [
        "切出一段時間，因為這個病人的Slow wave真的太少太難找，利用hypopred抓到N3的時間，抓個100秒才好不容易抓到"
      ],
      "metadata": {
        "id": "hPqHLCY5iSWM"
      }
    },
    {
      "cell_type": "code",
      "source": [
        "raw_crop = raw.copy().crop(tmin=18000, tmax=18100)"
      ],
      "metadata": {
        "id": "V2XZAwbwPvv3"
      },
      "execution_count": null,
      "outputs": []
    },
    {
      "cell_type": "code",
      "source": [
        "test=raw_pick"
      ],
      "metadata": {
        "id": "qHhfz2tmPvyL"
      },
      "execution_count": null,
      "outputs": []
    },
    {
      "cell_type": "markdown",
      "source": [
        "重要步驟，要把data拿出來，這種格式都需要這個步驟，但是平常抓sw等，用raw就可以了"
      ],
      "metadata": {
        "id": "QGTyeab8iaff"
      }
    },
    {
      "cell_type": "code",
      "source": [
        "data=test.get_data()"
      ],
      "metadata": {
        "id": "0JTtOvFdRRWo"
      },
      "execution_count": null,
      "outputs": []
    },
    {
      "cell_type": "code",
      "source": [
        "data=data.astype(np.float64)"
      ],
      "metadata": {
        "id": "XMgaXj9_RpiF"
      },
      "execution_count": null,
      "outputs": []
    },
    {
      "cell_type": "markdown",
      "source": [
        "畫出基本的圖形"
      ],
      "metadata": {
        "id": "pApDMmWoinTX"
      }
    },
    {
      "cell_type": "code",
      "source": [
        "import numpy as np\n",
        "import matplotlib.pyplot as plt\n",
        "import seaborn as sns\n",
        "# Define sampling frequency and time vector\n",
        "sf = 200.\n",
        "times = np.arange(data.size) / sf\n",
        "\n",
        "data_channel_1 = data[0]\n",
        "data_channel_1_flattened = data_channel_1.ravel()\n",
        "\n",
        "# Plot the signal\n",
        "fig, ax = plt.subplots(1, 1, figsize=(16, 4))\n",
        "plt.plot(times, data_channel_1_flattened, lw=1.5, color='k')\n",
        "plt.xlabel('Time (seconds)')\n",
        "plt.ylabel('Amplitude (uV)')\n",
        "plt.xlim([times.min(), times.max()])\n",
        "plt.title('sleep EEG data F4')\n",
        "sns.despine()\n"
      ],
      "metadata": {
        "colab": {
          "base_uri": "https://localhost:8080/",
          "height": 315
        },
        "id": "9O_xFyMcUdx3",
        "outputId": "78746820-2e7b-49de-f8d3-f9fbd9228532"
      },
      "execution_count": null,
      "outputs": [
        {
          "output_type": "display_data",
          "data": {
            "text/plain": [
              "<Figure size 1600x400 with 1 Axes>"
            ],
            "image/png": "[encoded data removed]"
          },
          "metadata": {}
        }
      ]
    },
    {
      "cell_type": "markdown",
      "source": [
        "slow wave detection!"
      ],
      "metadata": {
        "id": "7PHTfj_0iy0d"
      }
    },
    {
      "cell_type": "code",
      "source": [
        "import yasa\n",
        "sw = yasa.sw_detect(raw_pick)"
      ],
      "metadata": {
        "colab": {
          "base_uri": "https://localhost:8080/"
        },
        "id": "9WXKItWMP8ln",
        "outputId": "c341619d-3fff-4179-dbb6-6346b51afc20"
      },
      "execution_count": null,
      "outputs": [
        {
          "output_type": "stream",
          "name": "stderr",
          "text": [
            "[Parallel(n_jobs=1)]: Using backend SequentialBackend with 1 concurrent workers.\n",
            "[Parallel(n_jobs=1)]: Done   1 out of   1 | elapsed:    0.2s remaining:    0.0s\n",
            "[Parallel(n_jobs=1)]: Done   1 out of   1 | elapsed:    0.2s finished\n"
          ]
        }
      ]
    },
    {
      "cell_type": "code",
      "source": [
        "sw.summary(grp_chan=True, aggfunc='mean')"
      ],
      "metadata": {
        "colab": {
          "base_uri": "https://localhost:8080/",
          "height": 128
        },
        "id": "V0-Y737mP8ng",
        "outputId": "e0f07704-0f2f-4428-fe0b-710f725c207c"
      },
      "execution_count": null,
      "outputs": [
        {
          "output_type": "execute_result",
          "data": {
            "text/plain": [
              "         Count  Duration  ValNegPeak  ValPosPeak         PTP       Slope  \\\n",
              "Channel                                                                    \n",
              "F4        2487  1.175553  -88.676256   62.592425  151.268681  555.730059   \n",
              "\n",
              "         Frequency  \n",
              "Channel             \n",
              "F4        0.937473  "
            ],
            "text/html": [
              "\n",
              "  <div id=\"df-77f0605a-a1a2-4981-84a1-4f23d129b340\">\n",
              "    <div class=\"colab-df-container\">\n",
              "      <div>\n",
              "<style scoped>\n",
              "    .dataframe tbody tr th:only-of-type {\n",
              "        vertical-align: middle;\n",
              "    }\n",
              "\n",
              "    .dataframe tbody tr th {\n",
              "        vertical-align: top;\n",
              "    }\n",
              "\n",
              "    .dataframe thead th {\n",
              "        text-align: right;\n",
              "    }\n",
              "</style>\n",
              "<table border=\"1\" class=\"dataframe\">\n",
              "  <thead>\n",
              "    <tr style=\"text-align: right;\">\n",
              "      <th></th>\n",
              "      <th>Count</th>\n",
              "      <th>Duration</th>\n",
              "      <th>ValNegPeak</th>\n",
              "      <th>ValPosPeak</th>\n",
              "      <th>PTP</th>\n",
              "      <th>Slope</th>\n",
              "      <th>Frequency</th>\n",
              "    </tr>\n",
              "    <tr>\n",
              "      <th>Channel</th>\n",
              "      <th></th>\n",
              "      <th></th>\n",
              "      <th></th>\n",
              "      <th></th>\n",
              "      <th></th>\n",
              "      <th></th>\n",
              "      <th></th>\n",
              "    </tr>\n",
              "  </thead>\n",
              "  <tbody>\n",
              "    <tr>\n",
              "      <th>F4</th>\n",
              "      <td>2487</td>\n",
              "      <td>1.175553</td>\n",
              "      <td>-88.676256</td>\n",
              "      <td>62.592425</td>\n",
              "      <td>151.268681</td>\n",
              "      <td>555.730059</td>\n",
              "      <td>0.937473</td>\n",
              "    </tr>\n",
              "  </tbody>\n",
              "</table>\n",
              "</div>\n",
              "      <button class=\"colab-df-convert\" onclick=\"convertToInteractive('df-77f0605a-a1a2-4981-84a1-4f23d129b340')\"\n",
              "              title=\"Convert this dataframe to an interactive table.\"\n",
              "              style=\"display:none;\">\n",
              "        \n",
              "  <svg xmlns=\"http://www.w3.org/2000/svg\" height=\"24px\"viewBox=\"0 0 24 24\"\n",
              "       width=\"24px\">\n",
              "    <path d=\"M0 0h24v24H0V0z\" fill=\"none\"/>\n",
              "    <path d=\"M18.56 5.44l.94 2.06.94-2.06 2.06-.94-2.06-.94-.94-2.06-.94 2.06-2.06.94zm-11 1L8.5 8.5l.94-2.06 2.06-.94-2.06-.94L8.5 2.5l-.94 2.06-2.06.94zm10 10l.94 2.06.94-2.06 2.06-.94-2.06-.94-.94-2.06-.94 2.06-2.06.94z\"/><path d=\"M17.41 7.96l-1.37-1.37c-.4-.4-.92-.59-1.43-.59-.52 0-1.04.2-1.43.59L10.3 9.45l-7.72 7.72c-.78.78-.78 2.05 0 2.83L4 21.41c.39.39.9.59 1.41.59.51 0 1.02-.2 1.41-.59l7.78-7.78 2.81-2.81c.8-.78.8-2.07 0-2.86zM5.41 20L4 18.59l7.72-7.72 1.47 1.35L5.41 20z\"/>\n",
              "  </svg>\n",
              "      </button>\n",
              "      \n",
              "  <style>\n",
              "    .colab-df-container {\n",
              "      display:flex;\n",
              "      flex-wrap:wrap;\n",
              "      gap: 12px;\n",
              "    }\n",
              "\n",
              "    .colab-df-convert {\n",
              "      background-color: #E8F0FE;\n",
              "      border: none;\n",
              "      border-radius: 50%;\n",
              "      cursor: pointer;\n",
              "      display: none;\n",
              "      fill: #1967D2;\n",
              "      height: 32px;\n",
              "      padding: 0 0 0 0;\n",
              "      width: 32px;\n",
              "    }\n",
              "\n",
              "    .colab-df-convert:hover {\n",
              "      background-color: #E2EBFA;\n",
              "      box-shadow: 0px 1px 2px rgba(60, 64, 67, 0.3), 0px 1px 3px 1px rgba(60, 64, 67, 0.15);\n",
              "      fill: #174EA6;\n",
              "    }\n",
              "\n",
              "    [theme=dark] .colab-df-convert {\n",
              "      background-color: #3B4455;\n",
              "      fill: #D2E3FC;\n",
              "    }\n",
              "\n",
              "    [theme=dark] .colab-df-convert:hover {\n",
              "      background-color: #434B5C;\n",
              "      box-shadow: 0px 1px 3px 1px rgba(0, 0, 0, 0.15);\n",
              "      filter: drop-shadow(0px 1px 2px rgba(0, 0, 0, 0.3));\n",
              "      fill: #FFFFFF;\n",
              "    }\n",
              "  </style>\n",
              "\n",
              "      <script>\n",
              "        const buttonEl =\n",
              "          document.querySelector('#df-77f0605a-a1a2-4981-84a1-4f23d129b340 button.colab-df-convert');\n",
              "        buttonEl.style.display =\n",
              "          google.colab.kernel.accessAllowed ? 'block' : 'none';\n",
              "\n",
              "        async function convertToInteractive(key) {\n",
              "          const element = document.querySelector('#df-77f0605a-a1a2-4981-84a1-4f23d129b340');\n",
              "          const dataTable =\n",
              "            await google.colab.kernel.invokeFunction('convertToInteractive',\n",
              "                                                     [key], {});\n",
              "          if (!dataTable) return;\n",
              "\n",
              "          const docLinkHtml = 'Like what you see? Visit the ' +\n",
              "            '<a target=\"_blank\" href=https://colab.research.google.com/notebooks/data_table.ipynb>data table notebook</a>'\n",
              "            + ' to learn more about interactive tables.';\n",
              "          element.innerHTML = '';\n",
              "          dataTable['output_type'] = 'display_data';\n",
              "          await google.colab.output.renderOutput(dataTable, element);\n",
              "          const docLink = document.createElement('div');\n",
              "          docLink.innerHTML = docLinkHtml;\n",
              "          element.appendChild(docLink);\n",
              "        }\n",
              "      </script>\n",
              "    </div>\n",
              "  </div>\n",
              "  "
            ]
          },
          "metadata": {},
          "execution_count": 18
        }
      ]
    },
    {
      "cell_type": "code",
      "source": [
        "events = sw.summary()\n",
        "events.round(2)"
      ],
      "metadata": {
        "colab": {
          "base_uri": "https://localhost:8080/",
          "height": 488
        },
        "id": "J8DTCSyw9RPH",
        "outputId": "e49aad2c-84e5-4ed3-eab5-c21971488647"
      },
      "execution_count": null,
      "outputs": [
        {
          "output_type": "execute_result",
          "data": {
            "text/plain": [
              "         Start   NegPeak  MidCrossing   PosPeak       End  Duration  \\\n",
              "0        78.77     79.54        79.81     80.02     80.22      1.46   \n",
              "1        92.46     93.02        93.54     93.84     94.16      1.70   \n",
              "2        95.36     95.80        96.44     96.76     97.33      1.97   \n",
              "3       234.74    235.06       235.70    235.92    236.08      1.34   \n",
              "4       237.32    237.62       237.90    238.05    238.24      0.92   \n",
              "...        ...       ...          ...       ...       ...       ...   \n",
              "2482  21342.27  21342.45     21342.62  21342.78  21342.92      0.65   \n",
              "2483  21342.92  21343.13     21343.79  21344.00  21344.68      1.76   \n",
              "2484  21362.16  21362.39     21362.66  21362.83  21363.06      0.90   \n",
              "2485  21401.00  21401.31     21402.26  21402.85  21403.18      2.18   \n",
              "2486  21754.40  21754.64     21754.98  21755.48  21755.97      1.57   \n",
              "\n",
              "      ValNegPeak  ValPosPeak     PTP   Slope  Frequency Channel  IdxChannel  \n",
              "0         -47.24       33.29   80.53  303.88       0.69      F4           0  \n",
              "1         -83.65       81.94  165.59  315.41       0.59      F4           0  \n",
              "2         -71.65       57.20  128.85  199.76       0.51      F4           0  \n",
              "3        -163.84       85.88  249.71  390.18       0.74      F4           0  \n",
              "4        -167.94       51.68  219.63  784.38       1.08      F4           0  \n",
              "...          ...         ...     ...     ...        ...     ...         ...  \n",
              "2482      -65.13       44.82  109.95  628.30       1.54      F4           0  \n",
              "2483      -64.07       40.63  104.70  158.63       0.57      F4           0  \n",
              "2484     -141.61       50.80  192.42  712.66       1.10      F4           0  \n",
              "2485      -48.89       30.18   79.07   83.23       0.46      F4           0  \n",
              "2486     -113.33      107.40  220.73  658.89       0.64      F4           0  \n",
              "\n",
              "[2487 rows x 13 columns]"
            ],
            "text/html": [
              "\n",
              "  <div id=\"df-77e0e8e3-cde5-4580-8c86-6434150bd840\">\n",
              "    <div class=\"colab-df-container\">\n",
              "      <div>\n",
              "<style scoped>\n",
              "    .dataframe tbody tr th:only-of-type {\n",
              "        vertical-align: middle;\n",
              "    }\n",
              "\n",
              "    .dataframe tbody tr th {\n",
              "        vertical-align: top;\n",
              "    }\n",
              "\n",
              "    .dataframe thead th {\n",
              "        text-align: right;\n",
              "    }\n",
              "</style>\n",
              "<table border=\"1\" class=\"dataframe\">\n",
              "  <thead>\n",
              "    <tr style=\"text-align: right;\">\n",
              "      <th></th>\n",
              "      <th>Start</th>\n",
              "      <th>NegPeak</th>\n",
              "      <th>MidCrossing</th>\n",
              "      <th>PosPeak</th>\n",
              "      <th>End</th>\n",
              "      <th>Duration</th>\n",
              "      <th>ValNegPeak</th>\n",
              "      <th>ValPosPeak</th>\n",
              "      <th>PTP</th>\n",
              "      <th>Slope</th>\n",
              "      <th>Frequency</th>\n",
              "      <th>Channel</th>\n",
              "      <th>IdxChannel</th>\n",
              "    </tr>\n",
              "  </thead>\n",
              "  <tbody>\n",
              "    <tr>\n",
              "      <th>0</th>\n",
              "      <td>78.77</td>\n",
              "      <td>79.54</td>\n",
              "      <td>79.81</td>\n",
              "      <td>80.02</td>\n",
              "      <td>80.22</td>\n",
              "      <td>1.46</td>\n",
              "      <td>-47.24</td>\n",
              "      <td>33.29</td>\n",
              "      <td>80.53</td>\n",
              "      <td>303.88</td>\n",
              "      <td>0.69</td>\n",
              "      <td>F4</td>\n",
              "      <td>0</td>\n",
              "    </tr>\n",
              "    <tr>\n",
              "      <th>1</th>\n",
              "      <td>92.46</td>\n",
              "      <td>93.02</td>\n",
              "      <td>93.54</td>\n",
              "      <td>93.84</td>\n",
              "      <td>94.16</td>\n",
              "      <td>1.70</td>\n",
              "      <td>-83.65</td>\n",
              "      <td>81.94</td>\n",
              "      <td>165.59</td>\n",
              "      <td>315.41</td>\n",
              "      <td>0.59</td>\n",
              "      <td>F4</td>\n",
              "      <td>0</td>\n",
              "    </tr>\n",
              "    <tr>\n",
              "      <th>2</th>\n",
              "      <td>95.36</td>\n",
              "      <td>95.80</td>\n",
              "      <td>96.44</td>\n",
              "      <td>96.76</td>\n",
              "      <td>97.33</td>\n",
              "      <td>1.97</td>\n",
              "      <td>-71.65</td>\n",
              "      <td>57.20</td>\n",
              "      <td>128.85</td>\n",
              "      <td>199.76</td>\n",
              "      <td>0.51</td>\n",
              "      <td>F4</td>\n",
              "      <td>0</td>\n",
              "    </tr>\n",
              "    <tr>\n",
              "      <th>3</th>\n",
              "      <td>234.74</td>\n",
              "      <td>235.06</td>\n",
              "      <td>235.70</td>\n",
              "      <td>235.92</td>\n",
              "      <td>236.08</td>\n",
              "      <td>1.34</td>\n",
              "      <td>-163.84</td>\n",
              "      <td>85.88</td>\n",
              "      <td>249.71</td>\n",
              "      <td>390.18</td>\n",
              "      <td>0.74</td>\n",
              "      <td>F4</td>\n",
              "      <td>0</td>\n",
              "    </tr>\n",
              "    <tr>\n",
              "      <th>4</th>\n",
              "      <td>237.32</td>\n",
              "      <td>237.62</td>\n",
              "      <td>237.90</td>\n",
              "      <td>238.05</td>\n",
              "      <td>238.24</td>\n",
              "      <td>0.92</td>\n",
              "      <td>-167.94</td>\n",
              "      <td>51.68</td>\n",
              "      <td>219.63</td>\n",
              "      <td>784.38</td>\n",
              "      <td>1.08</td>\n",
              "      <td>F4</td>\n",
              "      <td>0</td>\n",
              "    </tr>\n",
              "    <tr>\n",
              "      <th>...</th>\n",
              "      <td>...</td>\n",
              "      <td>...</td>\n",
              "      <td>...</td>\n",
              "      <td>...</td>\n",
              "      <td>...</td>\n",
              "      <td>...</td>\n",
              "      <td>...</td>\n",
              "      <td>...</td>\n",
              "      <td>...</td>\n",
              "      <td>...</td>\n",
              "      <td>...</td>\n",
              "      <td>...</td>\n",
              "      <td>...</td>\n",
              "    </tr>\n",
              "    <tr>\n",
              "      <th>2482</th>\n",
              "      <td>21342.27</td>\n",
              "      <td>21342.45</td>\n",
              "      <td>21342.62</td>\n",
              "      <td>21342.78</td>\n",
              "      <td>21342.92</td>\n",
              "      <td>0.65</td>\n",
              "      <td>-65.13</td>\n",
              "      <td>44.82</td>\n",
              "      <td>109.95</td>\n",
              "      <td>628.30</td>\n",
              "      <td>1.54</td>\n",
              "      <td>F4</td>\n",
              "      <td>0</td>\n",
              "    </tr>\n",
              "    <tr>\n",
              "      <th>2483</th>\n",
              "      <td>21342.92</td>\n",
              "      <td>21343.13</td>\n",
              "      <td>21343.79</td>\n",
              "      <td>21344.00</td>\n",
              "      <td>21344.68</td>\n",
              "      <td>1.76</td>\n",
              "      <td>-64.07</td>\n",
              "      <td>40.63</td>\n",
              "      <td>104.70</td>\n",
              "      <td>158.63</td>\n",
              "      <td>0.57</td>\n",
              "      <td>F4</td>\n",
              "      <td>0</td>\n",
              "    </tr>\n",
              "    <tr>\n",
              "      <th>2484</th>\n",
              "      <td>21362.16</td>\n",
              "      <td>21362.39</td>\n",
              "      <td>21362.66</td>\n",
              "      <td>21362.83</td>\n",
              "      <td>21363.06</td>\n",
              "      <td>0.90</td>\n",
              "      <td>-141.61</td>\n",
              "      <td>50.80</td>\n",
              "      <td>192.42</td>\n",
              "      <td>712.66</td>\n",
              "      <td>1.10</td>\n",
              "      <td>F4</td>\n",
              "      <td>0</td>\n",
              "    </tr>\n",
              "    <tr>\n",
              "      <th>2485</th>\n",
              "      <td>21401.00</td>\n",
              "      <td>21401.31</td>\n",
              "      <td>21402.26</td>\n",
              "      <td>21402.85</td>\n",
              "      <td>21403.18</td>\n",
              "      <td>2.18</td>\n",
              "      <td>-48.89</td>\n",
              "      <td>30.18</td>\n",
              "      <td>79.07</td>\n",
              "      <td>83.23</td>\n",
              "      <td>0.46</td>\n",
              "      <td>F4</td>\n",
              "      <td>0</td>\n",
              "    </tr>\n",
              "    <tr>\n",
              "      <th>2486</th>\n",
              "      <td>21754.40</td>\n",
              "      <td>21754.64</td>\n",
              "      <td>21754.98</td>\n",
              "      <td>21755.48</td>\n",
              "      <td>21755.97</td>\n",
              "      <td>1.57</td>\n",
              "      <td>-113.33</td>\n",
              "      <td>107.40</td>\n",
              "      <td>220.73</td>\n",
              "      <td>658.89</td>\n",
              "      <td>0.64</td>\n",
              "      <td>F4</td>\n",
              "      <td>0</td>\n",
              "    </tr>\n",
              "  </tbody>\n",
              "</table>\n",
              "<p>2487 rows × 13 columns</p>\n",
              "</div>\n",
              "      <button class=\"colab-df-convert\" onclick=\"convertToInteractive('df-77e0e8e3-cde5-4580-8c86-6434150bd840')\"\n",
              "              title=\"Convert this dataframe to an interactive table.\"\n",
              "              style=\"display:none;\">\n",
              "        \n",
              "  <svg xmlns=\"http://www.w3.org/2000/svg\" height=\"24px\"viewBox=\"0 0 24 24\"\n",
              "       width=\"24px\">\n",
              "    <path d=\"M0 0h24v24H0V0z\" fill=\"none\"/>\n",
              "    <path d=\"M18.56 5.44l.94 2.06.94-2.06 2.06-.94-2.06-.94-.94-2.06-.94 2.06-2.06.94zm-11 1L8.5 8.5l.94-2.06 2.06-.94-2.06-.94L8.5 2.5l-.94 2.06-2.06.94zm10 10l.94 2.06.94-2.06 2.06-.94-2.06-.94-.94-2.06-.94 2.06-2.06.94z\"/><path d=\"M17.41 7.96l-1.37-1.37c-.4-.4-.92-.59-1.43-.59-.52 0-1.04.2-1.43.59L10.3 9.45l-7.72 7.72c-.78.78-.78 2.05 0 2.83L4 21.41c.39.39.9.59 1.41.59.51 0 1.02-.2 1.41-.59l7.78-7.78 2.81-2.81c.8-.78.8-2.07 0-2.86zM5.41 20L4 18.59l7.72-7.72 1.47 1.35L5.41 20z\"/>\n",
              "  </svg>\n",
              "      </button>\n",
              "      \n",
              "  <style>\n",
              "    .colab-df-container {\n",
              "      display:flex;\n",
              "      flex-wrap:wrap;\n",
              "      gap: 12px;\n",
              "    }\n",
              "\n",
              "    .colab-df-convert {\n",
              "      background-color: #E8F0FE;\n",
              "      border: none;\n",
              "      border-radius: 50%;\n",
              "      cursor: pointer;\n",
              "      display: none;\n",
              "      fill: #1967D2;\n",
              "      height: 32px;\n",
              "      padding: 0 0 0 0;\n",
              "      width: 32px;\n",
              "    }\n",
              "\n",
              "    .colab-df-convert:hover {\n",
              "      background-color: #E2EBFA;\n",
              "      box-shadow: 0px 1px 2px rgba(60, 64, 67, 0.3), 0px 1px 3px 1px rgba(60, 64, 67, 0.15);\n",
              "      fill: #174EA6;\n",
              "    }\n",
              "\n",
              "    [theme=dark] .colab-df-convert {\n",
              "      background-color: #3B4455;\n",
              "      fill: #D2E3FC;\n",
              "    }\n",
              "\n",
              "    [theme=dark] .colab-df-convert:hover {\n",
              "      background-color: #434B5C;\n",
              "      box-shadow: 0px 1px 3px 1px rgba(0, 0, 0, 0.15);\n",
              "      filter: drop-shadow(0px 1px 2px rgba(0, 0, 0, 0.3));\n",
              "      fill: #FFFFFF;\n",
              "    }\n",
              "  </style>\n",
              "\n",
              "      <script>\n",
              "        const buttonEl =\n",
              "          document.querySelector('#df-77e0e8e3-cde5-4580-8c86-6434150bd840 button.colab-df-convert');\n",
              "        buttonEl.style.display =\n",
              "          google.colab.kernel.accessAllowed ? 'block' : 'none';\n",
              "\n",
              "        async function convertToInteractive(key) {\n",
              "          const element = document.querySelector('#df-77e0e8e3-cde5-4580-8c86-6434150bd840');\n",
              "          const dataTable =\n",
              "            await google.colab.kernel.invokeFunction('convertToInteractive',\n",
              "                                                     [key], {});\n",
              "          if (!dataTable) return;\n",
              "\n",
              "          const docLinkHtml = 'Like what you see? Visit the ' +\n",
              "            '<a target=\"_blank\" href=https://colab.research.google.com/notebooks/data_table.ipynb>data table notebook</a>'\n",
              "            + ' to learn more about interactive tables.';\n",
              "          element.innerHTML = '';\n",
              "          dataTable['output_type'] = 'display_data';\n",
              "          await google.colab.output.renderOutput(dataTable, element);\n",
              "          const docLink = document.createElement('div');\n",
              "          docLink.innerHTML = docLinkHtml;\n",
              "          element.appendChild(docLink);\n",
              "        }\n",
              "      </script>\n",
              "    </div>\n",
              "  </div>\n",
              "  "
            ]
          },
          "metadata": {},
          "execution_count": 21
        }
      ]
    },
    {
      "cell_type": "code",
      "source": [
        "type(sw.summary())"
      ],
      "metadata": {
        "colab": {
          "base_uri": "https://localhost:8080/"
        },
        "id": "G2kuZdtQ_viZ",
        "outputId": "2ace7f20-8ed3-4ef7-e936-3d63bfbda7a7"
      },
      "execution_count": null,
      "outputs": [
        {
          "output_type": "execute_result",
          "data": {
            "text/plain": [
              "pandas.core.frame.DataFrame"
            ]
          },
          "metadata": {},
          "execution_count": 34
        }
      ]
    },
    {
      "cell_type": "code",
      "source": [
        "for c in ['Start', 'NegPeak', 'MidCrossing', 'PosPeak', 'End']:\n",
        "    events[c] = pd.to_timedelta(events[c], unit='s').dt.round('s')\n",
        "\n",
        "events.head()"
      ],
      "metadata": {
        "colab": {
          "base_uri": "https://localhost:8080/",
          "height": 297
        },
        "id": "lrrGmzKQA97Z",
        "outputId": "e8cab427-4029-4e6c-8574-2feaf9dfc94d"
      },
      "execution_count": null,
      "outputs": [
        {
          "output_type": "execute_result",
          "data": {
            "text/plain": [
              "            Start         NegPeak     MidCrossing         PosPeak  \\\n",
              "0 0 days 00:01:19 0 days 00:01:20 0 days 00:01:20 0 days 00:01:20   \n",
              "1 0 days 00:01:32 0 days 00:01:33 0 days 00:01:34 0 days 00:01:34   \n",
              "2 0 days 00:01:35 0 days 00:01:36 0 days 00:01:36 0 days 00:01:37   \n",
              "3 0 days 00:03:55 0 days 00:03:55 0 days 00:03:56 0 days 00:03:56   \n",
              "4 0 days 00:03:57 0 days 00:03:58 0 days 00:03:58 0 days 00:03:58   \n",
              "\n",
              "              End  Duration  ValNegPeak  ValPosPeak         PTP       Slope  \\\n",
              "0 0 days 00:01:20     1.455  -47.243989   33.285105   80.529093  303.883372   \n",
              "1 0 days 00:01:34     1.695  -83.653258   81.938371  165.591629  315.412627   \n",
              "2 0 days 00:01:37     1.970  -71.645584   57.202515  128.848100  199.764496   \n",
              "3 0 days 00:03:56     1.345 -163.836233   85.876065  249.712298  390.175466   \n",
              "4 0 days 00:03:58     0.925 -167.944895   51.681579  219.626474  784.380264   \n",
              "\n",
              "   Frequency Channel  IdxChannel  \n",
              "0   0.687285      F4           0  \n",
              "1   0.589971      F4           0  \n",
              "2   0.507614      F4           0  \n",
              "3   0.743494      F4           0  \n",
              "4   1.081081      F4           0  "
            ],
            "text/html": [
              "\n",
              "  <div id=\"df-b14f270f-75b0-4f49-9907-37bbc5da42a4\">\n",
              "    <div class=\"colab-df-container\">\n",
              "      <div>\n",
              "<style scoped>\n",
              "    .dataframe tbody tr th:only-of-type {\n",
              "        vertical-align: middle;\n",
              "    }\n",
              "\n",
              "    .dataframe tbody tr th {\n",
              "        vertical-align: top;\n",
              "    }\n",
              "\n",
              "    .dataframe thead th {\n",
              "        text-align: right;\n",
              "    }\n",
              "</style>\n",
              "<table border=\"1\" class=\"dataframe\">\n",
              "  <thead>\n",
              "    <tr style=\"text-align: right;\">\n",
              "      <th></th>\n",
              "      <th>Start</th>\n",
              "      <th>NegPeak</th>\n",
              "      <th>MidCrossing</th>\n",
              "      <th>PosPeak</th>\n",
              "      <th>End</th>\n",
              "      <th>Duration</th>\n",
              "      <th>ValNegPeak</th>\n",
              "      <th>ValPosPeak</th>\n",
              "      <th>PTP</th>\n",
              "      <th>Slope</th>\n",
              "      <th>Frequency</th>\n",
              "      <th>Channel</th>\n",
              "      <th>IdxChannel</th>\n",
              "    </tr>\n",
              "  </thead>\n",
              "  <tbody>\n",
              "    <tr>\n",
              "      <th>0</th>\n",
              "      <td>0 days 00:01:19</td>\n",
              "      <td>0 days 00:01:20</td>\n",
              "      <td>0 days 00:01:20</td>\n",
              "      <td>0 days 00:01:20</td>\n",
              "      <td>0 days 00:01:20</td>\n",
              "      <td>1.455</td>\n",
              "      <td>-47.243989</td>\n",
              "      <td>33.285105</td>\n",
              "      <td>80.529093</td>\n",
              "      <td>303.883372</td>\n",
              "      <td>0.687285</td>\n",
              "      <td>F4</td>\n",
              "      <td>0</td>\n",
              "    </tr>\n",
              "    <tr>\n",
              "      <th>1</th>\n",
              "      <td>0 days 00:01:32</td>\n",
              "      <td>0 days 00:01:33</td>\n",
              "      <td>0 days 00:01:34</td>\n",
              "      <td>0 days 00:01:34</td>\n",
              "      <td>0 days 00:01:34</td>\n",
              "      <td>1.695</td>\n",
              "      <td>-83.653258</td>\n",
              "      <td>81.938371</td>\n",
              "      <td>165.591629</td>\n",
              "      <td>315.412627</td>\n",
              "      <td>0.589971</td>\n",
              "      <td>F4</td>\n",
              "      <td>0</td>\n",
              "    </tr>\n",
              "    <tr>\n",
              "      <th>2</th>\n",
              "      <td>0 days 00:01:35</td>\n",
              "      <td>0 days 00:01:36</td>\n",
              "      <td>0 days 00:01:36</td>\n",
              "      <td>0 days 00:01:37</td>\n",
              "      <td>0 days 00:01:37</td>\n",
              "      <td>1.970</td>\n",
              "      <td>-71.645584</td>\n",
              "      <td>57.202515</td>\n",
              "      <td>128.848100</td>\n",
              "      <td>199.764496</td>\n",
              "      <td>0.507614</td>\n",
              "      <td>F4</td>\n",
              "      <td>0</td>\n",
              "    </tr>\n",
              "    <tr>\n",
              "      <th>3</th>\n",
              "      <td>0 days 00:03:55</td>\n",
              "      <td>0 days 00:03:55</td>\n",
              "      <td>0 days 00:03:56</td>\n",
              "      <td>0 days 00:03:56</td>\n",
              "      <td>0 days 00:03:56</td>\n",
              "      <td>1.345</td>\n",
              "      <td>-163.836233</td>\n",
              "      <td>85.876065</td>\n",
              "      <td>249.712298</td>\n",
              "      <td>390.175466</td>\n",
              "      <td>0.743494</td>\n",
              "      <td>F4</td>\n",
              "      <td>0</td>\n",
              "    </tr>\n",
              "    <tr>\n",
              "      <th>4</th>\n",
              "      <td>0 days 00:03:57</td>\n",
              "      <td>0 days 00:03:58</td>\n",
              "      <td>0 days 00:03:58</td>\n",
              "      <td>0 days 00:03:58</td>\n",
              "      <td>0 days 00:03:58</td>\n",
              "      <td>0.925</td>\n",
              "      <td>-167.944895</td>\n",
              "      <td>51.681579</td>\n",
              "      <td>219.626474</td>\n",
              "      <td>784.380264</td>\n",
              "      <td>1.081081</td>\n",
              "      <td>F4</td>\n",
              "      <td>0</td>\n",
              "    </tr>\n",
              "  </tbody>\n",
              "</table>\n",
              "</div>\n",
              "      <button class=\"colab-df-convert\" onclick=\"convertToInteractive('df-b14f270f-75b0-4f49-9907-37bbc5da42a4')\"\n",
              "              title=\"Convert this dataframe to an interactive table.\"\n",
              "              style=\"display:none;\">\n",
              "        \n",
              "  <svg xmlns=\"http://www.w3.org/2000/svg\" height=\"24px\"viewBox=\"0 0 24 24\"\n",
              "       width=\"24px\">\n",
              "    <path d=\"M0 0h24v24H0V0z\" fill=\"none\"/>\n",
              "    <path d=\"M18.56 5.44l.94 2.06.94-2.06 2.06-.94-2.06-.94-.94-2.06-.94 2.06-2.06.94zm-11 1L8.5 8.5l.94-2.06 2.06-.94-2.06-.94L8.5 2.5l-.94 2.06-2.06.94zm10 10l.94 2.06.94-2.06 2.06-.94-2.06-.94-.94-2.06-.94 2.06-2.06.94z\"/><path d=\"M17.41 7.96l-1.37-1.37c-.4-.4-.92-.59-1.43-.59-.52 0-1.04.2-1.43.59L10.3 9.45l-7.72 7.72c-.78.78-.78 2.05 0 2.83L4 21.41c.39.39.9.59 1.41.59.51 0 1.02-.2 1.41-.59l7.78-7.78 2.81-2.81c.8-.78.8-2.07 0-2.86zM5.41 20L4 18.59l7.72-7.72 1.47 1.35L5.41 20z\"/>\n",
              "  </svg>\n",
              "      </button>\n",
              "      \n",
              "  <style>\n",
              "    .colab-df-container {\n",
              "      display:flex;\n",
              "      flex-wrap:wrap;\n",
              "      gap: 12px;\n",
              "    }\n",
              "\n",
              "    .colab-df-convert {\n",
              "      background-color: #E8F0FE;\n",
              "      border: none;\n",
              "      border-radius: 50%;\n",
              "      cursor: pointer;\n",
              "      display: none;\n",
              "      fill: #1967D2;\n",
              "      height: 32px;\n",
              "      padding: 0 0 0 0;\n",
              "      width: 32px;\n",
              "    }\n",
              "\n",
              "    .colab-df-convert:hover {\n",
              "      background-color: #E2EBFA;\n",
              "      box-shadow: 0px 1px 2px rgba(60, 64, 67, 0.3), 0px 1px 3px 1px rgba(60, 64, 67, 0.15);\n",
              "      fill: #174EA6;\n",
              "    }\n",
              "\n",
              "    [theme=dark] .colab-df-convert {\n",
              "      background-color: #3B4455;\n",
              "      fill: #D2E3FC;\n",
              "    }\n",
              "\n",
              "    [theme=dark] .colab-df-convert:hover {\n",
              "      background-color: #434B5C;\n",
              "      box-shadow: 0px 1px 3px 1px rgba(0, 0, 0, 0.15);\n",
              "      filter: drop-shadow(0px 1px 2px rgba(0, 0, 0, 0.3));\n",
              "      fill: #FFFFFF;\n",
              "    }\n",
              "  </style>\n",
              "\n",
              "      <script>\n",
              "        const buttonEl =\n",
              "          document.querySelector('#df-b14f270f-75b0-4f49-9907-37bbc5da42a4 button.colab-df-convert');\n",
              "        buttonEl.style.display =\n",
              "          google.colab.kernel.accessAllowed ? 'block' : 'none';\n",
              "\n",
              "        async function convertToInteractive(key) {\n",
              "          const element = document.querySelector('#df-b14f270f-75b0-4f49-9907-37bbc5da42a4');\n",
              "          const dataTable =\n",
              "            await google.colab.kernel.invokeFunction('convertToInteractive',\n",
              "                                                     [key], {});\n",
              "          if (!dataTable) return;\n",
              "\n",
              "          const docLinkHtml = 'Like what you see? Visit the ' +\n",
              "            '<a target=\"_blank\" href=https://colab.research.google.com/notebooks/data_table.ipynb>data table notebook</a>'\n",
              "            + ' to learn more about interactive tables.';\n",
              "          element.innerHTML = '';\n",
              "          dataTable['output_type'] = 'display_data';\n",
              "          await google.colab.output.renderOutput(dataTable, element);\n",
              "          const docLink = document.createElement('div');\n",
              "          docLink.innerHTML = docLinkHtml;\n",
              "          element.appendChild(docLink);\n",
              "        }\n",
              "      </script>\n",
              "    </div>\n",
              "  </div>\n",
              "  "
            ]
          },
          "metadata": {},
          "execution_count": 37
        }
      ]
    },
    {
      "cell_type": "code",
      "source": [
        "# Let's get a mask indicating for each sample\n",
        "mask = sw.get_mask()\n",
        "mask"
      ],
      "metadata": {
        "colab": {
          "base_uri": "https://localhost:8080/"
        },
        "id": "wJ1RGXXbQqZ3",
        "outputId": "89d23f76-7f25-40c1-ac99-2acfdc3adb57"
      },
      "execution_count": null,
      "outputs": [
        {
          "output_type": "execute_result",
          "data": {
            "text/plain": [
              "array([0, 0, 0, ..., 0, 0, 0])"
            ]
          },
          "metadata": {},
          "execution_count": 19
        }
      ]
    },
    {
      "cell_type": "code",
      "source": [
        "sw_highlight = data * mask\n",
        "sw_highlight[sw_highlight == 0] = np.nan\n",
        "\n",
        "data_channel_1 = data[0]\n",
        "data_channel_1_flattened = data_channel_1.ravel()\n",
        "\n",
        "sw_highlight = np.squeeze(sw_highlight)\n",
        "\n",
        "plt.figure(figsize=(16, 4.5))\n",
        "\n",
        "plt.plot(times, data_channel_1_flattened, 'k')\n",
        "plt.plot(times, sw_highlight, 'indianred')\n",
        "\n",
        "plt.xlabel('Time (seconds)')\n",
        "plt.ylabel('Amplitude (uV)')\n",
        "plt.xlim([0, times[-1]])\n",
        "plt.title('N3 sleep EEG data F3')\n",
        "plt.legend()\n",
        "sns.despine()"
      ],
      "metadata": {
        "colab": {
          "base_uri": "https://localhost:8080/",
          "height": 383
        },
        "id": "B2vn4151QqbS",
        "outputId": "1ba9a253-9923-4114-9b67-6f4e8dd20ed1"
      },
      "execution_count": null,
      "outputs": [
        {
          "output_type": "stream",
          "name": "stderr",
          "text": [
            "WARNING:matplotlib.legend:No artists with labels found to put in legend.  Note that artists whose label start with an underscore are ignored when legend() is called with no argument.\n"
          ]
        },
        {
          "output_type": "display_data",
          "data": {
            "text/plain": [
              "<Figure size 1600x450 with 1 Axes>"
            ],
            "image/png": "[encoded data removed]"
          },
          "metadata": {}
        }
      ]
    },
    {
      "cell_type": "markdown",
      "source": [],
      "metadata": {
        "id": "G3bFmjP8N1OZ"
      }
    }
  ]
}